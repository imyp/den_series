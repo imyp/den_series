{
 "cells": [
  {
   "cell_type": "code",
   "execution_count": 1,
   "metadata": {},
   "outputs": [
    {
     "name": "stderr",
     "output_type": "stream",
     "text": [
      "/home/imyapa/.opentrons/deck_calibration.json not found. Loading defaults\n",
      "/home/imyapa/.opentrons/robot_settings.json not found. Loading defaults\n"
     ]
    },
    {
     "name": "stdout",
     "output_type": "stream",
     "text": [
      "Loading json containers...\n",
      "Json container file load complete, listing database\n",
      "Found 0 containers to add. Starting migration...\n",
      "Database migration complete!\n"
     ]
    }
   ],
   "source": [
    "from opentrons import protocol_api\n",
    "import numpy as np"
   ]
  },
  {
   "cell_type": "code",
   "execution_count": 2,
   "metadata": {},
   "outputs": [],
   "source": [
    "# metadata\n",
    "metadata = {\n",
    "    'protocolName': 'Denaturation series',\n",
    "    'author': 'Nicola Vettore <vettore@hhu.de>',\n",
    "    'description': 'First protocol for denaturation series on OT-2',\n",
    "    'apiLevel': '2.0'\n",
    "}"
   ]
  },
  {
   "cell_type": "code",
   "execution_count": 3,
   "metadata": {},
   "outputs": [
    {
     "name": "stderr",
     "output_type": "stream",
     "text": [
      "/home/imyapa/.opentrons/deck_calibration.json not found. Loading defaults\n",
      "/home/imyapa/.opentrons/robot_settings.json not found. Loading defaults\n"
     ]
    }
   ],
   "source": [
    "pc = protocol_api.ProtocolContext()"
   ]
  },
  {
   "cell_type": "code",
   "execution_count": 4,
   "metadata": {},
   "outputs": [],
   "source": [
    "#def empty_pos(protocol):\n",
    "#    return list( str(pos) for pos,obj in protocol.deck.items() if obj==None )\n",
    "\n",
    "def choose_pos(protocol, n=1):\n",
    "    \"\"\"Choose n available positions from the deck.\"\"\"\n",
    "    deck = protocol.deck.items()\n",
    "    empty_positions = list(str(pos) for pos,obj in deck if obj==None)\n",
    "    return empty_positions[0:n]\n"
   ]
  },
  {
   "cell_type": "code",
   "execution_count": 5,
   "metadata": {},
   "outputs": [],
   "source": [
    "def load_with_tips(instrument, position, protocol, num=1):\n",
    "    ins2rack = {\n",
    "        'p300_single': 'opentrons_96_tiprack_300ul', \n",
    "        'p10_single': 'opentrons_96_tiprack_10ul'\n",
    "    }\n",
    "    positions = choose_pos(protocol, num=num)\n",
    "    tipracks = [protocol.load_labware(ins2rack[instrument], pos) for pos in positions]\n",
    "    protocol.load_instrument(instrument, position, tipracks)\n",
    "    return tipracks\n",
    "\n",
    "def load_instruments_with_tiprack(left,right,protocol, num=1):\n",
    "    left_racks = load_with_tips(left,'left',protocol, num)\n",
    "    right_racks = load_with_tips(right, 'right', protocol, num)\n",
    "    return dict(left=left_rack, right=right_racks)\n"
   ]
  },
  {
   "cell_type": "code",
   "execution_count": 6,
   "metadata": {},
   "outputs": [],
   "source": [
    "racks = load_instruments_with_tiprack('p300_single', 'p10_single', pc)"
   ]
  },
  {
   "cell_type": "code",
   "execution_count": 19,
   "metadata": {},
   "outputs": [],
   "source": [
    "def size_dict(protocol):\n",
    "    instruments = list(pc.loaded_instruments.values())\n",
    "    instruments.sort(key=lambda instrument : instrument.max_volume)\n",
    "    keys = ['low', 'high']\n",
    "    return dict(zip(keys, instruments))"
   ]
  },
  {
   "cell_type": "code",
   "execution_count": 9,
   "metadata": {},
   "outputs": [],
   "source": [
    "def fill_volume(instrument, volume):\n",
    "    # Recursive call when volume is larger than max volume\n",
    "    if volume > instrument.max_volume:\n",
    "        fill_volume(instrument, instrument.max_volume)\n",
    "        new_volume = volume - instrument.max_volume\n",
    "        fill_volume(instrument, new_volume)\n",
    "    \n",
    "    # Filling wells or eppis\n",
    "    else:\n",
    "        print(f'filling {volume}')"
   ]
  },
  {
   "cell_type": "code",
   "execution_count": null,
   "metadata": {},
   "outputs": [],
   "source": [
    "def auto_fill(volume, protocol):\n",
    "    instruments = size_dict(protocol)\n",
    "    if volume < instruments['high'].min_volume:\n",
    "        fill_volume(instruments['low'], volume)\n",
    "    else:\n",
    "        fill_volume(instruments['high'], volume)"
   ]
  },
  {
   "cell_type": "markdown",
   "metadata": {},
   "source": [
    "- TODO: Make function that defines buffer and sample labware with directionality."
   ]
  },
  {
   "cell_type": "code",
   "execution_count": null,
   "metadata": {},
   "outputs": [],
   "source": []
  },
  {
   "cell_type": "code",
   "execution_count": null,
   "metadata": {},
   "outputs": [],
   "source": []
  },
  {
   "cell_type": "code",
   "execution_count": null,
   "metadata": {},
   "outputs": [],
   "source": []
  },
  {
   "cell_type": "code",
   "execution_count": null,
   "metadata": {},
   "outputs": [],
   "source": []
  },
  {
   "cell_type": "code",
   "execution_count": 31,
   "metadata": {},
   "outputs": [],
   "source": [
    "wells = tiprack.wells_by_name()"
   ]
  },
  {
   "cell_type": "code",
   "execution_count": 32,
   "metadata": {},
   "outputs": [],
   "source": [
    "well = wells['A1']"
   ]
  },
  {
   "cell_type": "code",
   "execution_count": 88,
   "metadata": {},
   "outputs": [],
   "source": [
    "def vols(low, high, nsamples):\n",
    "    return np.linspace(low, high, nsamples)"
   ]
  },
  {
   "cell_type": "code",
   "execution_count": 8,
   "metadata": {},
   "outputs": [],
   "source": [
    "#?pip.pick_up_tip"
   ]
  },
  {
   "cell_type": "code",
   "execution_count": 105,
   "metadata": {},
   "outputs": [],
   "source": [
    "volumes = vols(low=0, high=140, nsamples=20).round(1)"
   ]
  },
  {
   "cell_type": "code",
   "execution_count": null,
   "metadata": {},
   "outputs": [],
   "source": [
    "# protocol run function. the part after the colon lets your editor know\n",
    "# where to look for autocomplete suggestions\n",
    "def run(protocol: protocol_api.ProtocolContext):\n",
    "\n",
    "    # labware\n",
    " #   plate = protocol.load_labware('corning_96_wellplate_360ul_flat', '7')\n",
    "    tiprack1 = protocol.load_labware('opentrons_96_tiprack_300ul', '1')\n",
    "    tiprack2 = protocol.load_labware('opentrons_96_tiprack_300ul', '2')\n",
    "    tiprack3 = protocol.load_labware('opentrons_96_tiprack_10ul', '3')\n",
    "    tiprack4 = protocol.load_labware('opentrons_96_tiprack_10ul', '4')\n",
    "    falconrack = protocol.load_labware('opentrons_24_aluminumblock_nest_2ml_snapcap', '5')\n",
    "\n",
    "    # pipettes\n",
    "    left_pipette = protocol.load_instrument(\n",
    "         'p300_single', 'left', tip_racks=[tiprack1,tiprack2])\n",
    "    right_pipette = protocol.load_instrument(\n",
    "         'p10_single', 'right', tip_racks=[tiprack3,tiprack4])\n",
    "\n",
    "\n",
    "    # nested funs\n",
    "\n",
    "    def buff_pipetting(pipette, buff_loc, well_loc, volume):\n",
    "        pipette.pick_up_tip()\n",
    "        pipette.aspirate(volume, falconrack[buff_loc].center())\n",
    "        pipette.dispense(volume, falconrack[well_loc],)\n",
    "        pipette.blow_out(falconrack[well_loc].top())\n",
    "        pipette.drop_tip()\n",
    "\n",
    "    def den_pipetting(pipette, den_loc, well_loc, volume):\n",
    "        pipette.pick_up_tip()\n",
    "        protocol.max_speeds['Z'] = 50  # limit x axis to 50 mm/s\n",
    "        pipette.aspirate(volume, falconrack[den_loc].center())\n",
    "        pipette.dispense(volume, falconrack[well_loc])\n",
    "        pipette.mix(4, 30)\n",
    "        pipette.blow_out(falconrack[well_loc].top())\n",
    "        del protocol.max_speeds['Z']  # reset x axis limit\n",
    "        pipette.drop_tip()\n",
    "\n",
    "    # commands\n",
    "    wells = ['A%i'%i for i in range(1,7)]\n",
    "    volumes_den = np.linspace(0,95, num = 6, endpoint = True)\n",
    "    volumes_buff = 95-volumes_den\n",
    "    for i,j in zip(volumes_buff, wells):\n",
    "        i = round(i,1)\n",
    "        if i<=10 and i>0:\n",
    "            pipette = right_pipette\n",
    "            buff_pipetting(pipette, 'D5', j, i)\n",
    "        elif i>10 and i<30:\n",
    "            pipette = right_pipette\n",
    "            dec = i//10\n",
    "            uni = i%10\n",
    "            newvol = [10 for n in range(int(dec))]+[uni]\n",
    "            for k in newvol:\n",
    "                buff_pipetting(pipette, 'D5', j, k)\n",
    "        elif i>=30:\n",
    "            pipette = left_pipette\n",
    "            buff_pipetting(pipette, 'D5', j, i)\n",
    "\n",
    "\n",
    "    for i,j in zip(volumes_den, wells):\n",
    "        i = round(i,1)\n",
    "        if i<=10 and i>0:\n",
    "            pipette = right_pipette\n",
    "            den_pipetting(pipette, 'D6', j, i)\n",
    "        elif i>10 and i<30:\n",
    "            pipette = right_pipette\n",
    "            dec = i//10\n",
    "            uni = i%10\n",
    "            newvol = [10 for n in range(int(dec))]+[uni]\n",
    "            for k in newvol:\n",
    "                den_pipetting(pipette, 'D6', j, k)\n",
    "        elif i>=30:\n",
    "            pipette = left_pipette\n",
    "            den_pipetting(pipette, 'D6', j, i)"
   ]
  }
 ],
 "metadata": {
  "kernelspec": {
   "display_name": "Python 3",
   "language": "python",
   "name": "python3"
  },
  "language_info": {
   "codemirror_mode": {
    "name": "ipython",
    "version": 3
   },
   "file_extension": ".py",
   "mimetype": "text/x-python",
   "name": "python",
   "nbconvert_exporter": "python",
   "pygments_lexer": "ipython3",
   "version": "3.8.1"
  }
 },
 "nbformat": 4,
 "nbformat_minor": 4
}
